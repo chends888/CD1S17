{
 "cells": [
  {
   "cell_type": "markdown",
   "metadata": {},
   "source": [
    "___\n",
    "# PROJETO 1"
   ]
  },
  {
   "cell_type": "markdown",
   "metadata": {},
   "source": [
    "## Lucas Chen Alba"
   ]
  },
  {
   "cell_type": "markdown",
   "metadata": {},
   "source": [
    "## Análise dos domicílios de alta qualidade de 2009 e 2015"
   ]
  },
  {
   "cell_type": "markdown",
   "metadata": {},
   "source": [
    "___\n",
    "## Introdução\n",
    "\n",
    "No Brasil um alto número de moradores em uma residência normalmente ocorre em famílias mais pobres, resultado da baixa renda familliar, consequentemente famílias com uma baixa qualidade de vida.\n",
    "Irei analisar como a renda de uma família* no intervalo de tempo de 2009 a 2015 pode afetar o número de moradores do domicílio e sua qualidade de vida em relação aos bens materiais, tomando como qualidade de vida as seguintes variáveis, se o domicílio possui telefone móvel, microcomputador, geladeira, maquina de lavar roupa e água encanada. Irei usar todo os domicílios brasileiros pesquisados pela PNAD, contabilizando os domicílios particulares permanentes, em que a renda e o número de moradores se aplicam.\n",
    "\n",
    "*(foi utilizado o número de salários mínimos per capita do domicílio, para se ter um valor com referência, pois existe a inflação ao longo dos anos)"
   ]
  },
  {
   "cell_type": "markdown",
   "metadata": {},
   "source": [
    "### Links que serviram de inspiração:\n",
    "\n",
    "http://g1.globo.com/brasil/noticia/2011/04/numero-de-moradores-por-domicilio-cai-132-em-10-anos-diz-ibge.html\n",
    "http://g1.globo.com/tecnologia/noticia/2015/04/mais-de-50-de-domicilios-brasileiros-tem-apenas-tv-de-tubo-diz-ibge.html\n",
    "\n",
    "http://www.contabeis.com.br/tabelas/salario-minimo/"
   ]
  },
  {
   "cell_type": "markdown",
   "metadata": {},
   "source": [
    "___\n",
    "## Análise e Resultados"
   ]
  },
  {
   "cell_type": "code",
   "execution_count": 215,
   "metadata": {
    "collapsed": true
   },
   "outputs": [],
   "source": [
    "%matplotlib inline\n",
    "import pandas as pd\n",
    "import matplotlib.pyplot as plt\n",
    "import numpy as np\n",
    "import os\n",
    "from matplotlib import pyplot"
   ]
  },
  {
   "cell_type": "code",
   "execution_count": 216,
   "metadata": {
    "collapsed": false
   },
   "outputs": [
    {
     "name": "stdout",
     "output_type": "stream",
     "text": [
      "Esperamos trabalhar no diretório\n",
      "C:\\Users\\chend\\Documents\\GitHub\\CD1S17\\Projeto 1\n"
     ]
    }
   ],
   "source": [
    "print('Esperamos trabalhar no diretório')\n",
    "print(os.getcwd())"
   ]
  },
  {
   "cell_type": "code",
   "execution_count": 217,
   "metadata": {
    "collapsed": true
   },
   "outputs": [],
   "source": [
    "dados2009 = pd.read_csv ('DOM2009.csv', sep = ',')"
   ]
  },
  {
   "cell_type": "code",
   "execution_count": 218,
   "metadata": {
    "collapsed": false
   },
   "outputs": [],
   "source": [
    "dados2015 = pd.read_csv ('DOM2015.csv', sep = ',')"
   ]
  },
  {
   "cell_type": "code",
   "execution_count": 219,
   "metadata": {
    "collapsed": true
   },
   "outputs": [],
   "source": [
    "dados2015 = dados2015 [(~dados2015.V0105.isnull()) & (~dados2015.V4621.isnull())]\n",
    "dados2015 = dados2015 [dados2015.V0201 == 1]\n",
    "\n",
    "dados2009 = dados2009 [(~dados2009.V0105.isnull()) & (~dados2009.V4621.isnull())]\n",
    "dados2009 = dados2009 [dados2009.V0201 == 1]"
   ]
  },
  {
   "cell_type": "code",
   "execution_count": 220,
   "metadata": {
    "collapsed": true
   },
   "outputs": [],
   "source": [
    "#Montando as variáveis salariosmins de 2015 e 2009\n",
    "\n",
    "\n",
    "renda2009 = dados2009.V4622.astype ('float') #Número de salários mínimos do domicílio\n",
    "dados2009['salariosmins'] = dados2009.V4621/465\n",
    "dados2009 = dados2009 [dados2009.salariosmins  < 15]\n",
    "\n",
    "#dados2009.salariosmins2009 = dados2009.salariosmins2009 [dados2009.salariosmins2009 <= 13]\n",
    "\n",
    "dados2015.V4622 = dados2015.V4622.astype ('float') #Número de salários mínimos do domicílio\n",
    "dados2015['salariosmins'] = dados2015.V4621/788\n",
    "dados2015 = dados2015 [dados2015.salariosmins  < 15]\n",
    "\n",
    "#dados2015.salariosmins2015 = dados2015.salariosmins2015 [dados2015.salariosmins2015 <= 13]"
   ]
  },
  {
   "cell_type": "code",
   "execution_count": 221,
   "metadata": {
    "collapsed": false
   },
   "outputs": [
    {
     "name": "stderr",
     "output_type": "stream",
     "text": [
      "C:\\Users\\chend\\Anaconda3\\lib\\site-packages\\ipykernel\\__main__.py:6: SettingWithCopyWarning: \n",
      "A value is trying to be set on a copy of a slice from a DataFrame.\n",
      "Try using .loc[row_indexer,col_indexer] = value instead\n",
      "\n",
      "See the caveats in the documentation: http://pandas.pydata.org/pandas-docs/stable/indexing.html#indexing-view-versus-copy\n",
      "C:\\Users\\chend\\Anaconda3\\lib\\site-packages\\ipykernel\\__main__.py:7: SettingWithCopyWarning: \n",
      "A value is trying to be set on a copy of a slice from a DataFrame.\n",
      "Try using .loc[row_indexer,col_indexer] = value instead\n",
      "\n",
      "See the caveats in the documentation: http://pandas.pydata.org/pandas-docs/stable/indexing.html#indexing-view-versus-copy\n",
      "C:\\Users\\chend\\Anaconda3\\lib\\site-packages\\ipykernel\\__main__.py:9: SettingWithCopyWarning: \n",
      "A value is trying to be set on a copy of a slice from a DataFrame.\n",
      "Try using .loc[row_indexer,col_indexer] = value instead\n",
      "\n",
      "See the caveats in the documentation: http://pandas.pydata.org/pandas-docs/stable/indexing.html#indexing-view-versus-copy\n",
      "C:\\Users\\chend\\Anaconda3\\lib\\site-packages\\ipykernel\\__main__.py:10: SettingWithCopyWarning: \n",
      "A value is trying to be set on a copy of a slice from a DataFrame.\n",
      "Try using .loc[row_indexer,col_indexer] = value instead\n",
      "\n",
      "See the caveats in the documentation: http://pandas.pydata.org/pandas-docs/stable/indexing.html#indexing-view-versus-copy\n"
     ]
    }
   ],
   "source": [
    "#Montando os dataframes (novos) da população com baixa qualidade de vida\n",
    "\n",
    "baixaquali2015 = dados2015[(dados2015.V0220 == 2) & (dados2015.V0230 == 4) & (dados2015.V0231 == 3)]\n",
    "baixaquali2009 = dados2009[(dados2009.V0220 == 2) & (dados2009.V0230 == 4) & (dados2009.V0231 == 3)]\n",
    "\n",
    "baixaquali2015['salariosmins'] = dados2015.V4621/788\n",
    "baixaquali2009['salariosmins'] = dados2009.V4621/465\n",
    "\n",
    "baixaquali2015['moradores'] = baixaquali2015.V0105\n",
    "baixaquali2009['moradores'] = baixaquali2009.V0105"
   ]
  },
  {
   "cell_type": "code",
   "execution_count": 222,
   "metadata": {
    "collapsed": false
   },
   "outputs": [
    {
     "name": "stderr",
     "output_type": "stream",
     "text": [
      "C:\\Users\\chend\\Anaconda3\\lib\\site-packages\\ipykernel\\__main__.py:6: SettingWithCopyWarning: \n",
      "A value is trying to be set on a copy of a slice from a DataFrame.\n",
      "Try using .loc[row_indexer,col_indexer] = value instead\n",
      "\n",
      "See the caveats in the documentation: http://pandas.pydata.org/pandas-docs/stable/indexing.html#indexing-view-versus-copy\n",
      "C:\\Users\\chend\\Anaconda3\\lib\\site-packages\\ipykernel\\__main__.py:7: SettingWithCopyWarning: \n",
      "A value is trying to be set on a copy of a slice from a DataFrame.\n",
      "Try using .loc[row_indexer,col_indexer] = value instead\n",
      "\n",
      "See the caveats in the documentation: http://pandas.pydata.org/pandas-docs/stable/indexing.html#indexing-view-versus-copy\n",
      "C:\\Users\\chend\\Anaconda3\\lib\\site-packages\\ipykernel\\__main__.py:9: SettingWithCopyWarning: \n",
      "A value is trying to be set on a copy of a slice from a DataFrame.\n",
      "Try using .loc[row_indexer,col_indexer] = value instead\n",
      "\n",
      "See the caveats in the documentation: http://pandas.pydata.org/pandas-docs/stable/indexing.html#indexing-view-versus-copy\n",
      "C:\\Users\\chend\\Anaconda3\\lib\\site-packages\\ipykernel\\__main__.py:10: SettingWithCopyWarning: \n",
      "A value is trying to be set on a copy of a slice from a DataFrame.\n",
      "Try using .loc[row_indexer,col_indexer] = value instead\n",
      "\n",
      "See the caveats in the documentation: http://pandas.pydata.org/pandas-docs/stable/indexing.html#indexing-view-versus-copy\n"
     ]
    }
   ],
   "source": [
    "#Montando os dataframes (novos) da população com alta qualidade de vida\n",
    "\n",
    "altaquali2015 = dados2015[(dados2015.V0220 == 2) & (dados2015.V0230 == 2) & (dados2015.V0231 == 1) & (dados2015.V0228 == 2)]\n",
    "altaquali2009 = dados2009[(dados2009.V0220 == 2) & (dados2009.V0230 == 2) & (dados2009.V0231 == 1) & (dados2009.V0228 == 2)]\n",
    "\n",
    "altaquali2015['salariosmins'] = dados2015.V4621/788\n",
    "altaquali2009['salariosmins'] = dados2009.V4621/465\n",
    "\n",
    "altaquali2015['moradores'] = altaquali2015.V0105\n",
    "altaquali2009['moradores'] = altaquali2009.V0105"
   ]
  },
  {
   "cell_type": "code",
   "execution_count": 223,
   "metadata": {
    "collapsed": false
   },
   "outputs": [],
   "source": [
    "#Categorizando as variáveis de 2015 nos seus respectivos tipos\n",
    "\n",
    "dados2015['moradores'] = dados2015.V0105\n",
    "#moradores2015 = moradores2015 [moradores2015 > 0]\n",
    "\n",
    "\n",
    "#2 sim, 4 não\n",
    "celular2015 = dados2015.V0220.astype ('category')\n",
    "roupa2015 = dados2015.V0230.astype ('category')\n",
    "pc2015 = dados2015.V0231.astype ('category') #1 sim, 3 não\n",
    "dvd2015 = dados2015.V2027.astype ('category') #1 sim, 3 não\n",
    "tvcolor2015 = dados2015.V0226.astype ('category') #2 sim, 4 não\n",
    "geladeira2015 = dados2015.V0228.astype ('category') #2, de 2 portas, 4, de 1 porta, 6, não\n",
    "agua2015 = dados2015.V0211.astype ('category') #1 sim, 3 não"
   ]
  },
  {
   "cell_type": "code",
   "execution_count": 224,
   "metadata": {
    "collapsed": false
   },
   "outputs": [],
   "source": [
    "#Categorizando as variáveis de 2009 nos seus respectivos tipos\n",
    "\n",
    "dados2009['moradores'] = dados2009.V0105\n",
    "#moradores2009 = moradores2009 [moradores2009 > 0]\n",
    "\n",
    "#2 sim, 4 não\n",
    "celular2009 = dados2009.V0220.astype ('category')\n",
    "roupa2009 = dados2009.V0230.astype ('category')\n",
    "pc2009 = dados2009.V0231.astype ('category') #1 sim, 3 não\n",
    "dvd2009 = dados2009.V2027.astype ('category') #1 sim, 3 não\n",
    "tvcolor2015 = dados2009.V0226.astype ('category') #1 sim, 3 não\n",
    "geladeira2009 = dados2009.V0228.astype ('category') #2, de 2 portas, 4, de 1 porta, 6, não\n",
    "agua2009 = dados2009.V0211.astype ('category') #1 sim, 3 não"
   ]
  },
  {
   "cell_type": "code",
   "execution_count": 225,
   "metadata": {
    "collapsed": true
   },
   "outputs": [],
   "source": [
    "#Categorizando as variáveis de 2009 nos seus respectivos tipos\n",
    "\n",
    "dados2009['moradores'] = dados2009.V0105\n",
    "#moradores2009 = moradores2009 [moradores2009 > 0]\n",
    "\n",
    "#2 sim, 4 não\n",
    "celular2009 = dados2009.V0220.astype ('category')\n",
    "roupa2009 = dados2009.V0230.astype ('category')\n",
    "pc2009 = dados2009.V0231.astype ('category') #1 sim, 3 não\n",
    "geladeira2009 = dados2009.V0228.astype ('category') #2, de 2 portas, 4, de 1 porta, 6, não\n",
    "agua2009 = dados2009.V0211.astype ('category') #1 sim, 3 não"
   ]
  },
  {
   "cell_type": "code",
   "execution_count": 226,
   "metadata": {
    "collapsed": false
   },
   "outputs": [],
   "source": [
    "faixamoradores =  np.arange(1,8,1)\n",
    "#faixacomodos =  np.arange(0,6000,100)\n",
    "#faixatv =  np.arange(0,6000,100)\n",
    "faixasalariosmins =  np.arange(0,10,0.5)"
   ]
  },
  {
   "cell_type": "code",
   "execution_count": 227,
   "metadata": {
    "collapsed": false,
    "scrolled": true
   },
   "outputs": [],
   "source": [
    "#renda2015cat = pd.cut(renda2015, faixarenda)\n",
    "dados2015.moradorescat = pd.cut(dados2015.moradores, faixamoradores, False)\n",
    "dados2009.moradorescat = pd.cut(dados2009.moradores, faixamoradores, False)\n",
    "dados2009.salariosminscat = pd.cut(dados2015.salariosmins, faixasalariosmins, False)\n",
    "dados2009.salariosminscat = pd.cut(dados2009.salariosmins, faixasalariosmins, False)\n"
   ]
  },
  {
   "cell_type": "code",
   "execution_count": 230,
   "metadata": {
    "collapsed": false
   },
   "outputs": [
    {
     "name": "stdout",
     "output_type": "stream",
     "text": [
      "\n",
      "Boxplot da renda de todos os domicílios de 2015\n"
     ]
    },
    {
     "data": {
      "text/plain": [
       "<matplotlib.axes._subplots.AxesSubplot at 0x280c2332048>"
      ]
     },
     "execution_count": 230,
     "metadata": {},
     "output_type": "execute_result"
    },
    {
     "data": {
      "image/png": "[encoded data removed]",
      "text/plain": [
       "<matplotlib.figure.Figure at 0x280bd1605f8>"
      ]
     },
     "metadata": {},
     "output_type": "display_data"
    }
   ],
   "source": [
    "print()\n",
    "print('Boxplot da renda de todos os domicílios de 2015')\n",
    "dados2015.salariosmins.plot.box()"
   ]
  },
  {
   "cell_type": "code",
   "execution_count": 231,
   "metadata": {
    "collapsed": false,
    "scrolled": true
   },
   "outputs": [
    {
     "name": "stdout",
     "output_type": "stream",
     "text": [
      "\n",
      "Boxplot da renda de todos os domicílios de 2009\n"
     ]
    },
    {
     "data": {
      "text/plain": [
       "<matplotlib.axes._subplots.AxesSubplot at 0x280c23eca58>"
      ]
     },
     "execution_count": 231,
     "metadata": {},
     "output_type": "execute_result"
    },
    {
     "data": {
      "image/png": "[encoded data removed]",
      "text/plain": [
       "<matplotlib.figure.Figure at 0x280c2a5f048>"
      ]
     },
     "metadata": {},
     "output_type": "display_data"
    }
   ],
   "source": [
    "print()\n",
    "print('Boxplot da renda de todos os domicílios de 2009')\n",
    "dados2009.salariosmins.plot.box()"
   ]
  },
  {
   "cell_type": "code",
   "execution_count": 242,
   "metadata": {
    "collapsed": false,
    "scrolled": true
   },
   "outputs": [
    {
     "name": "stdout",
     "output_type": "stream",
     "text": [
      "\n",
      "Número de salários mínimos dos domicílios com alta qualidade de vida de 2009 e 2015\n"
     ]
    },
    {
     "data": {
      "text/plain": [
       "<matplotlib.legend.Legend at 0x280b3e83550>"
      ]
     },
     "execution_count": 242,
     "metadata": {},
     "output_type": "execute_result"
    },
    {
     "data": {
      "image/png": "[encoded data removed]",
      "text/plain": [
       "<matplotlib.figure.Figure at 0x280bdbdf668>"
      ]
     },
     "metadata": {},
     "output_type": "display_data"
    }
   ],
   "source": [
    "print ()\n",
    "print ('Número de salários mínimos dos domicílios com alta qualidade de vida de 2009 e 2015')\n",
    "altaquali2015.salariosmins.plot.hist(bins = faixasalariosmins, color = \"SpringGreen\", label = 'renda 2009', alpha=0.5, normed = 1)\n",
    "baixaquali2015.salariosmins.plot.hist(bins = faixasalariosmins, color = \"DarkOrchid\", label = 'renda 2015', alpha=0.5, normed = 1)\n",
    "pyplot.legend(loc = 'best')"
   ]
  },
  {
   "cell_type": "code",
   "execution_count": 240,
   "metadata": {
    "collapsed": false,
    "scrolled": true
   },
   "outputs": [
    {
     "name": "stdout",
     "output_type": "stream",
     "text": [
      "\n",
      "Número de moradores dos domicílios com alta qualidade de vida em 2015 e 2009\n"
     ]
    },
    {
     "data": {
      "text/plain": [
       "<matplotlib.legend.Legend at 0x280bd731eb8>"
      ]
     },
     "execution_count": 240,
     "metadata": {},
     "output_type": "execute_result"
    },
    {
     "data": {
      "image/png": "[encoded data removed]",
      "text/plain": [
       "<matplotlib.figure.Figure at 0x280bd3e4198>"
      ]
     },
     "metadata": {},
     "output_type": "display_data"
    }
   ],
   "source": [
    "print()\n",
    "print('Número de moradores dos domicílios com alta qualidade de vida em 2015 e 2009')\n",
    "altaquali2015.moradores.plot.hist(bins = faixamoradores, color = \"MediumTurquoise\", label = '2015, alta', alpha=0.5, normed = 1)\n",
    "baixaquali2015.moradores.plot.hist(bins = faixamoradores, color = \"Tomato\", label = '2015, baixa', alpha=0.5, normed = 1)\n",
    "pyplot.legend(loc = 'best')"
   ]
  },
  {
   "cell_type": "code",
   "execution_count": 243,
   "metadata": {
    "collapsed": false
   },
   "outputs": [
    {
     "name": "stdout",
     "output_type": "stream",
     "text": [
      "\n",
      "Número de salários mínimos dos domicílios com alta qualidade de vida de 2009 e 2015\n"
     ]
    },
    {
     "data": {
      "text/plain": [
       "<matplotlib.legend.Legend at 0x280c2cde780>"
      ]
     },
     "execution_count": 243,
     "metadata": {},
     "output_type": "execute_result"
    },
    {
     "data": {
      "image/png": "[encoded data removed]",
      "text/plain": [
       "<matplotlib.figure.Figure at 0x280c2cd8f98>"
      ]
     },
     "metadata": {},
     "output_type": "display_data"
    }
   ],
   "source": [
    "print ()\n",
    "print ('Número de salários mínimos dos domicílios com alta qualidade de vida de 2009 e 2015')\n",
    "altaquali2009.salariosmins.plot.hist(bins = faixasalariosmins, color = \"SpringGreen\", label = 'renda 2009', alpha=0.5, normed = 1)\n",
    "baixaquali2009.salariosmins.plot.hist(bins = faixasalariosmins, color = \"DarkOrchid\", label = 'renda 2015', alpha=0.5, normed = 1)\n",
    "pyplot.legend(loc = 'best')"
   ]
  },
  {
   "cell_type": "code",
   "execution_count": 241,
   "metadata": {
    "collapsed": false
   },
   "outputs": [
    {
     "name": "stdout",
     "output_type": "stream",
     "text": [
      "\n",
      "Número de moradores dos domicílios com alta qualidade de vida em 2015 e 2009\n"
     ]
    },
    {
     "data": {
      "text/plain": [
       "<matplotlib.legend.Legend at 0x280bd3d9630>"
      ]
     },
     "execution_count": 241,
     "metadata": {},
     "output_type": "execute_result"
    },
    {
     "data": {
      "image/png": "[encoded data removed]",
      "text/plain": [
       "<matplotlib.figure.Figure at 0x280c27a7eb8>"
      ]
     },
     "metadata": {},
     "output_type": "display_data"
    }
   ],
   "source": [
    "print()\n",
    "print('Número de moradores dos domicílios com alta qualidade de vida em 2015 e 2009')\n",
    "altaquali2009.moradores.plot.hist(bins = faixamoradores, color = \"MediumTurquoise\", label = '2015, alta', alpha=0.5, normed = 1)\n",
    "baixaquali2009.moradores.plot.hist(bins = faixamoradores, color = \"Tomato\", label = '2015, baixa', alpha=0.5, normed = 1)\n",
    "pyplot.legend(loc = 'best')"
   ]
  },
  {
   "cell_type": "code",
   "execution_count": null,
   "metadata": {
    "collapsed": false
   },
   "outputs": [],
   "source": [
    "#Gerando a tabela de região x curso mais elevado realizado\n",
    "\n",
    "#ct1 = pd.crosstab(moradores2015cat, renda2015 , margins = False)\n",
    "#ct1"
   ]
  },
  {
   "cell_type": "markdown",
   "metadata": {
    "collapsed": false
   },
   "source": [
    "___\n",
    "## Conclusão "
   ]
  },
  {
   "cell_type": "markdown",
   "metadata": {
    "collapsed": true
   },
   "source": [
    "Descreva aqui suas conclusões!"
   ]
  },
  {
   "cell_type": "code",
   "execution_count": null,
   "metadata": {
    "collapsed": true
   },
   "outputs": [],
   "source": []
  }
 ],
 "metadata": {
  "anaconda-cloud": {},
  "kernelspec": {
   "display_name": "Python 3",
   "language": "python",
   "name": "python3"
  },
  "language_info": {
   "codemirror_mode": {
    "name": "ipython",
    "version": 3
   },
   "file_extension": ".py",
   "mimetype": "text/x-python",
   "name": "python",
   "nbconvert_exporter": "python",
   "pygments_lexer": "ipython3",
   "version": "3.6.0"
  }
 },
 "nbformat": 4,
 "nbformat_minor": 0
}
