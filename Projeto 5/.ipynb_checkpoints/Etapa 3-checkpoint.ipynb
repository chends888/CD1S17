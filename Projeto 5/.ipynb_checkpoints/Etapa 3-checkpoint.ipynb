{
 "cells": [
  {
   "cell_type": "markdown",
   "metadata": {},
   "source": [
    "# Etapa 3\n",
    "___\n",
    "### Lucas Chen Alba"
   ]
  },
  {
   "cell_type": "markdown",
   "metadata": {},
   "source": [
    "O problema escolhido consiste em analisar quanto o consumo de energia elétrica per capita e a renda per capita podem se relacionar linearmente com a emissão de CO2 per capita. Traduzindo para a estatística, analisar a inclinação das retas produzidas pela junção dos dados de CO2 com a renda e da CO2 com energia elétrica. Se a inclinação for alta, significa que a variável explicativa em questão"
   ]
  }
 ],
 "metadata": {
  "kernelspec": {
   "display_name": "Python 3",
   "language": "python",
   "name": "python3"
  },
  "language_info": {
   "codemirror_mode": {
    "name": "ipython",
    "version": 3
   },
   "file_extension": ".py",
   "mimetype": "text/x-python",
   "name": "python",
   "nbconvert_exporter": "python",
   "pygments_lexer": "ipython3",
   "version": "3.6.0"
  }
 },
 "nbformat": 4,
 "nbformat_minor": 2
}
