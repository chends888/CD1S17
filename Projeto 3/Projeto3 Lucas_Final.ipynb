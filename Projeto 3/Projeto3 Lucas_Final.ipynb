{
 "cells": [
  {
   "cell_type": "markdown",
   "metadata": {},
   "source": [
    "___\n",
    "\n",
    "# PROJETO 3\n",
    "\n",
    "### Lucas Chen Alba\n",
    "___"
   ]
  },
  {
   "cell_type": "code",
   "execution_count": 1,
   "metadata": {
    "collapsed": false,
    "scrolled": false
   },
   "outputs": [
    {
     "name": "stdout",
     "output_type": "stream",
     "text": [
      "Esperamos trabalhar no diretório\n",
      "C:\\Users\\chend\\Documents\\GitHub\\CD1S17\\Projeto 3\n"
     ]
    }
   ],
   "source": [
    "%matplotlib inline\n",
    "import pandas as pd\n",
    "import matplotlib.pyplot as plt\n",
    "import numpy as np\n",
    "import os\n",
    "from scipy import stats\n",
    "import math\n",
    "\n",
    "print('Esperamos trabalhar no diretório')\n",
    "print(os.getcwd())"
   ]
  },
  {
   "cell_type": "markdown",
   "metadata": {},
   "source": [
    "## Estudo da Distribuição da Média Amostral  $\\bar{X}$  via SIMULAÇÃO"
   ]
  },
  {
   "cell_type": "markdown",
   "metadata": {},
   "source": [
    "# 1"
   ]
  },
  {
   "cell_type": "code",
   "execution_count": 2,
   "metadata": {
    "collapsed": false
   },
   "outputs": [
    {
     "name": "stdout",
     "output_type": "stream",
     "text": [
      "Média real da população: 0.999753714264\n",
      "\n",
      "Variância dos dados 0.997862670743\n"
     ]
    },
    {
     "data": {
      "image/png": "[encoded data removed]",
      "text/plain": [
       "<matplotlib.figure.Figure at 0x25c8d7f3fd0>"
      ]
     },
     "metadata": {},
     "output_type": "display_data"
    }
   ],
   "source": [
    "expo = stats.expon.rvs(size = 1000000)\n",
    "plt.hist(expo, normed = 1)\n",
    "print ('Média real da população:', expo.mean())\n",
    "print ()\n",
    "print ('Variância dos dados', expo.var())"
   ]
  },
  {
   "cell_type": "code",
   "execution_count": null,
   "metadata": {
    "collapsed": false
   },
   "outputs": [],
   "source": []
  },
  {
   "cell_type": "code",
   "execution_count": null,
   "metadata": {
    "collapsed": false
   },
   "outputs": [],
   "source": []
  },
  {
   "cell_type": "markdown",
   "metadata": {},
   "source": [
    "# 2"
   ]
  },
  {
   "cell_type": "code",
   "execution_count": 3,
   "metadata": {
    "collapsed": false
   },
   "outputs": [],
   "source": [
    "\n",
    "def tlc (n):\n",
    "    listamedias = []\n",
    "    x3 = []\n",
    "    x15 = []\n",
    "\n",
    "    for j in range (0,10000):\n",
    "        amostra = []\n",
    "        for i in range(n):\n",
    "            amostra.append(np.random.choice(expo))\n",
    "    \n",
    "        listamedias.append(np.mean(amostra))\n",
    "        \n",
    "        if len(amostra) > 20:\n",
    "            x3.append(amostra[2])\n",
    "            x15.append(amostra[14])\n",
    "\n",
    "            \n",
    "    plt.hist(listamedias, color = \"Navy\", alpha = 0.5, normed = 1, label = 'Médias amostrais', bins = 20)\n",
    "    plt.legend(loc = 'best')\n",
    "\n",
    "            \n",
    "\n",
    "    print ('Amostras de tamanho:', n)\n",
    "    print ('Média das médias das amostras:', np.mean(listamedias))\n",
    "    print ('Variância das médias:', np.var(listamedias))\n",
    "\n",
    "    \n",
    "    if len(amostra) > 49:\n",
    "\n",
    "        fig, axs = plt.subplots(figsize=(8, 5))\n",
    "        plt.title('Histogramas dos valores das médias')\n",
    "        plt.xlabel(\"Valores\")\n",
    "        plt.ylabel(\"Densidade\")\n",
    "        \n",
    "        plt.hist(x3, color = \"IndianRed\", alpha = 0.5, normed = 1, label = 'Terceiros valores', bins = 20)\n",
    "        plt.hist(x15, color = \"Lime\", alpha = 0.5, normed = 1, label = 'Décimos quinto valores', bins = 20)\n",
    "        plt.legend(loc = 'best')\n",
    "\n",
    "        cov = 0\n",
    "        for i in range (len(x3)):\n",
    "            cov += (x3[i] - np.mean(x3)) * (x15[i] - np.mean(x15)) / (len(x3))\n",
    "        print ('Correlação entre os valores de X3 e X15 (amostras aletórias retiradas de X):', cov/(np.std(x3)*np.std(x15)))\n",
    "\n",
    "\n",
    "    \n",
    "    \n"
   ]
  },
  {
   "cell_type": "code",
   "execution_count": 4,
   "metadata": {
    "collapsed": false
   },
   "outputs": [
    {
     "name": "stdout",
     "output_type": "stream",
     "text": [
      "Amostras de tamanho: 2\n",
      "Média das médias das amostras: 0.989951896647\n",
      "Variância das médias: 0.484121915065\n"
     ]
    },
    {
     "data": {
      "image/png": "[encoded data removed]",
      "text/plain": [
       "<matplotlib.figure.Figure at 0x25c8dce4c88>"
      ]
     },
     "metadata": {},
     "output_type": "display_data"
    }
   ],
   "source": [
    "tlc(2)"
   ]
  },
  {
   "cell_type": "code",
   "execution_count": 5,
   "metadata": {
    "collapsed": false
   },
   "outputs": [
    {
     "name": "stdout",
     "output_type": "stream",
     "text": [
      "Amostras de tamanho: 4\n",
      "Média das médias das amostras: 0.996134766824\n",
      "Variância das médias: 0.248840689699\n"
     ]
    },
    {
     "data": {
      "image/png": "[encoded data removed]",
      "text/plain": [
       "<matplotlib.figure.Figure at 0x25c8dbf6550>"
      ]
     },
     "metadata": {},
     "output_type": "display_data"
    }
   ],
   "source": [
    "tlc (4)"
   ]
  },
  {
   "cell_type": "code",
   "execution_count": 6,
   "metadata": {
    "collapsed": false
   },
   "outputs": [
    {
     "name": "stdout",
     "output_type": "stream",
     "text": [
      "Amostras de tamanho: 20\n",
      "Média das médias das amostras: 0.999005608388\n",
      "Variância das médias: 0.0491703515967\n"
     ]
    },
    {
     "data": {
      "image/png": "[encoded data removed]",
      "text/plain": [
       "<matplotlib.figure.Figure at 0x25c8dc66ac8>"
      ]
     },
     "metadata": {},
     "output_type": "display_data"
    }
   ],
   "source": [
    "tlc (20)"
   ]
  },
  {
   "cell_type": "code",
   "execution_count": 7,
   "metadata": {
    "collapsed": false,
    "scrolled": false
   },
   "outputs": [
    {
     "name": "stdout",
     "output_type": "stream",
     "text": [
      "Amostras de tamanho: 50\n",
      "Média das médias das amostras: 1.00011760405\n",
      "Variância das médias: 0.0197717286978\n",
      "Correlação entre os valores de X3 e X15 (amostras aletórias retiradas de X): -0.00792184876246\n"
     ]
    },
    {
     "data": {
      "image/png": "[encoded data removed]",
      "text/plain": [
       "<matplotlib.figure.Figure at 0x25c8a010ac8>"
      ]
     },
     "metadata": {},
     "output_type": "display_data"
    },
    {
     "data": {
      "image/png": "[encoded data removed]",
      "text/plain": [
       "<matplotlib.figure.Figure at 0x25c8e085f98>"
      ]
     },
     "metadata": {},
     "output_type": "display_data"
    }
   ],
   "source": [
    "tlc (50)"
   ]
  },
  {
   "cell_type": "markdown",
   "metadata": {
    "collapsed": true
   },
   "source": [
    "### Analisando os histogramas das médias coletadas a partir da população expo (lista com 1 milhão de valores que seguem uma distribuição exponencial), percebemos que eles vão se aproximando cada vez mais de uma normal. Estes histogramas foram plotados a partir de dados de uma lista, a qual contém valores das médias de pequenas amostras da nossa população. Ao aumentarmos o número de amostras coletadas para o cálculo da média, os valores tendem a formar uma normal, cuja variância vai tendendo a 0 quando tendemos o número de amostras ao infinito, assim teoricamente chegamos no valor da média da população. Isso deve se ao fato de que quando analisamos as médias dos valores extraídos da população, ele irá nos retornar uma distribuição de probabilidade da média da população.Chegamos em uma probabilidade alta da média ser a real média quando n (número de elementos dos quais será extraída a média) tende ao infinito, pois essa amostra terá tantos valores que terá praticamente os mesmos valores da população em si, nos retornando uma distribuição com praticamente 100% de certeza da média da população real."
   ]
  },
  {
   "cell_type": "markdown",
   "metadata": {
    "collapsed": true
   },
   "source": [
    "### A distribuição de X3 e X15 parecem se aproximar bastante da distribuição de X. O que parece razoável, uma vez que X3 e X15 foram construídas aleatoriamente a partir das amostras (também aleatórias) de X."
   ]
  },
  {
   "cell_type": "markdown",
   "metadata": {
    "collapsed": true
   },
   "source": [
    "### A baixa correlação entre as amostras aleatórias X3 e X15 indica uma independência entre elas. O que parece correto, uma vez que são amostras aleatórias."
   ]
  },
  {
   "cell_type": "code",
   "execution_count": null,
   "metadata": {
    "collapsed": false
   },
   "outputs": [],
   "source": []
  },
  {
   "cell_type": "markdown",
   "metadata": {
    "collapsed": true
   },
   "source": [
    "___\n",
    "## Estudo da Distribuição de  $\\frac{\\bar{X}-\\mu}{\\sigma\\hspace{1mm}/\\sqrt{n}}$  e de $\\frac{\\bar{X}-\\mu}{S\\hspace{1mm}/\\sqrt{n}}$ via SIMULAÇÃO"
   ]
  },
  {
   "cell_type": "code",
   "execution_count": 8,
   "metadata": {
    "collapsed": false
   },
   "outputs": [
    {
     "ename": "NameError",
     "evalue": "name 'norm' is not defined",
     "output_type": "error",
     "traceback": [
      "\u001b[0;31m---------------------------------------------------------------------------\u001b[0m",
      "\u001b[0;31mNameError\u001b[0m                                 Traceback (most recent call last)",
      "\u001b[0;32m<ipython-input-8-cf95facde85d>\u001b[0m in \u001b[0;36m<module>\u001b[0;34m()\u001b[0m\n\u001b[1;32m      2\u001b[0m \u001b[1;33m\u001b[0m\u001b[0m\n\u001b[1;32m      3\u001b[0m \u001b[0mplt\u001b[0m\u001b[1;33m.\u001b[0m\u001b[0mhist\u001b[0m\u001b[1;33m(\u001b[0m\u001b[0mnormal\u001b[0m\u001b[1;33m,\u001b[0m \u001b[0mnormed\u001b[0m \u001b[1;33m=\u001b[0m \u001b[1;36m1\u001b[0m\u001b[1;33m,\u001b[0m \u001b[0mbins\u001b[0m \u001b[1;33m=\u001b[0m \u001b[1;36m50\u001b[0m\u001b[1;33m)\u001b[0m\u001b[1;33m\u001b[0m\u001b[0m\n\u001b[0;32m----> 4\u001b[0;31m \u001b[0mprint\u001b[0m \u001b[1;33m(\u001b[0m\u001b[1;34m'Média real da população:'\u001b[0m\u001b[1;33m,\u001b[0m \u001b[0mnp\u001b[0m\u001b[1;33m.\u001b[0m\u001b[0mmean\u001b[0m\u001b[1;33m(\u001b[0m\u001b[0mnorm\u001b[0m\u001b[1;33m)\u001b[0m\u001b[1;33m)\u001b[0m\u001b[1;33m\u001b[0m\u001b[0m\n\u001b[0m\u001b[1;32m      5\u001b[0m \u001b[0mprint\u001b[0m \u001b[1;33m(\u001b[0m\u001b[1;33m)\u001b[0m\u001b[1;33m\u001b[0m\u001b[0m\n\u001b[1;32m      6\u001b[0m \u001b[0mprint\u001b[0m \u001b[1;33m(\u001b[0m\u001b[1;34m'Variância dos dados'\u001b[0m\u001b[1;33m,\u001b[0m \u001b[0mnp\u001b[0m\u001b[1;33m.\u001b[0m\u001b[0mvar\u001b[0m\u001b[1;33m(\u001b[0m\u001b[0mnorm\u001b[0m\u001b[1;33m)\u001b[0m\u001b[1;33m)\u001b[0m\u001b[1;33m\u001b[0m\u001b[0m\n",
      "\u001b[0;31mNameError\u001b[0m: name 'norm' is not defined"
     ]
    },
    {
     "data": {
      "image/png": "[encoded data removed]",
      "text/plain": [
       "<matplotlib.figure.Figure at 0x25c8dc0a518>"
      ]
     },
     "metadata": {},
     "output_type": "display_data"
    }
   ],
   "source": [
    "normal = sorted(stats.norm.rvs(loc = 0,  scale = 1, size = 10000))\n",
    "\n",
    "plt.hist(normal, normed = 1, bins = 50)\n",
    "print ('Média real da população:', np.mean(norm))\n",
    "print ()\n",
    "print ('Variância dos dados', np.var(norm))"
   ]
  },
  {
   "cell_type": "code",
   "execution_count": null,
   "metadata": {
    "collapsed": false
   },
   "outputs": [],
   "source": [
    "def tlc2 (n):\n",
    "    listamedias = []\n",
    "    listaz = []\n",
    "    listat = []\n",
    "\n",
    "    for j in range (0,100): #Deixei em 1000 porque demorou muito pra rodar\n",
    "        amostra = []\n",
    "        for i in range(n):\n",
    "            amostra.append(np.random.choice(normal))\n",
    "        listamedias.append(np.mean(amostra))\n",
    "\n",
    "        \n",
    "        z = ((np.mean(amostra) - np.mean(normal))/(np.std(normal)/(n)**0.5))\n",
    "        t = ((np.mean(amostra) - np.mean(normal))/(np.std(amostra)/(n)**0.5))\n",
    "        listaz.append (z)\n",
    "        listat.append (t)\n",
    "        \n",
    "\n",
    "\n",
    "\n",
    "            \n",
    "    plt.hist(listamedias, color = \"Navy\", alpha = 0.5, normed = 1, label = 'Médias amostrais', bins = 30)\n",
    "    plt.legend(loc = 'best')\n",
    "\n",
    "            \n",
    "\n",
    "    print ('Amostras de tamanho:', n)\n",
    "    print ('Média das médias das amostras:', np.mean(listamedias))\n",
    "    print ('Variância das médias:', np.var(listamedias))\n",
    "\n",
    "    \n",
    "    \n",
    "    x = np.linspace(-4, 4, 100)\n",
    "\n",
    "    \n",
    "    \n",
    "    plt.subplots(1)\n",
    "    plt.hist(listaz, color = \"IndianRed\", alpha = 0.5, normed = 1, label = 'z', bins = 30)\n",
    "    plt.plot(x, stats.norm.pdf(x, loc = 0, scale = 1), lw = 3, alpha = 0.6, color = 'Black')\n",
    "    plt.title('Histogramas dos valores de z')\n",
    "    plt.xlabel(\"Valores\")\n",
    "    plt.ylabel(\"Densidade\")\n",
    "    plt.legend(loc = 'best')\n",
    "\n",
    "    #plt.plot(stats.norm.pdf(x), lw = 3, alpha = 0.6, color = 'Black')\n",
    "\n",
    "\n",
    "    #plt.plot(norm, stats.norm.pdf(norm, loc = 0, scale = 1), lw = 3, alpha = 0.6, color = 'Black')\n",
    "    \n",
    "    #tstud = sorted(stats.norm.rvs(size = 10000, loc = 0, scale = 1))\n",
    "\n",
    "    \n",
    "    plt.subplots(1)\n",
    "    plt.hist(listat, color = \"IndianRed\", alpha = 0.5, normed = 1, label = 't', bins = 150)\n",
    "    plt.plot(x, stats.t.pdf(x,df=3), lw=3, color='Black')\n",
    "    \n",
    "    plt.title('Histogramas dos valores de t')\n",
    "    plt.xlabel(\"Valores\")\n",
    "    plt.ylabel(\"Densidade\")\n",
    "    plt.xlim(-6,6)\n",
    "\n",
    "    #plt.plot(tstud, stats.norm.pdf(tstud, loc = 0, scale = 1), lw = 3, alpha = 0.6, color = 'Black')\n",
    "    \n"
   ]
  },
  {
   "cell_type": "code",
   "execution_count": null,
   "metadata": {
    "collapsed": false,
    "scrolled": false
   },
   "outputs": [],
   "source": [
    "tlc2 (4)"
   ]
  },
  {
   "cell_type": "code",
   "execution_count": null,
   "metadata": {
    "collapsed": false
   },
   "outputs": [],
   "source": [
    "tlc2(20)"
   ]
  },
  {
   "cell_type": "code",
   "execution_count": null,
   "metadata": {
    "collapsed": false
   },
   "outputs": [],
   "source": [
    "tlc2(50)"
   ]
  },
  {
   "cell_type": "code",
   "execution_count": null,
   "metadata": {
    "collapsed": false
   },
   "outputs": [],
   "source": [
    "tlc2(300)"
   ]
  },
  {
   "cell_type": "code",
   "execution_count": null,
   "metadata": {
    "collapsed": true
   },
   "outputs": [],
   "source": []
  },
  {
   "cell_type": "markdown",
   "metadata": {},
   "source": [
    "### Nestes últimos gráficos foram calculadas as padronizações das médias amostrais de uma distribuição normal em dois casos, utilizando o desvio padrão da população e utilizando os desvios padrões calculados a partir das amostras de tamanho n. Quando padronizamos uma distribuição, quer dizer que estamos criando uma outra distribuição com os valores das probabilidades acumuladas (z) dessa distribuição. A distribuição das médias amostrais utilizando o desvio padrão da população se aproxima mais de uma normal, justamente porque utilizamos o desvio padrão real, já se utilizamos o desvio padrão das amostras, ela não se aproxima tanto de uma normal, no caso, se aproxima mais de uma t-student. Isso ocorre pois quanto maior a amostra, mais o desvio padrão calculado sobre as amostras se aproxima do desvio padrão real."
   ]
  }
 ],
 "metadata": {
  "anaconda-cloud": {},
  "kernelspec": {
   "display_name": "Python 3",
   "language": "python",
   "name": "python3"
  },
  "language_info": {
   "codemirror_mode": {
    "name": "ipython",
    "version": 3
   },
   "file_extension": ".py",
   "mimetype": "text/x-python",
   "name": "python",
   "nbconvert_exporter": "python",
   "pygments_lexer": "ipython3",
   "version": "3.6.0"
  }
 },
 "nbformat": 4,
 "nbformat_minor": 0
}
