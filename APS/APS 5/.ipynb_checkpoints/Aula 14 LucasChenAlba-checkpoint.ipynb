{
 "cells": [
  {
   "cell_type": "markdown",
   "metadata": {},
   "source": [
    "___\n",
    "# Atividade: Modelos probabilísticos contínuos e Dados\n",
    "___\n",
    "\n",
    "\n",
    "\n",
    "## Lucas Chen Alba\n",
    "\n",
    "\n",
    "\n",
    "\n",
    "## Aula 14\n",
    "\n",
    "**Preparo Prévio:**\n",
    "1. Leitura prévia necessária: Magalhães e Lima (7ª. Edição): Modelo Normal (pág. 197 a 201).\n",
    "2. Executar o arquivo `Aula13 Modelos probabilísticos contínuos.ipynb`\n",
    "3. Leitura prévia necessária: Magalhães e Lima (7ª. Edição): Gráfico de quantis ou QQplot (pág. 27 - Exemplo 1.10 e 1.11).\n",
    "4. Leitura prévia necessária: Magalhães e Lima (7ª. Edição): Gráfico de probabilidade (similar ao gráfico QQplot) (pág. 201 a 204) - Exemplo 6.10).\n",
    "\n",
    "**Hoje:**\n",
    "1. Reforçar mais ferramentas para Análise Descritiva\n",
    "2. Avaliar, descritivamente, adequação da normal aos dados.\n",
    "3. Contrastar resultados teóricos e empíricos.\n",
    "\n",
    "\n",
    "**Próxima aula:**\n",
    "1.\tLeitura prévia necessária: Magalhães e Lima (7ª. Edição): Seção 5.1 (pág. 137) e Seção 5.2 (pág. 146).\n",
    "___"
   ]
  },
  {
   "cell_type": "markdown",
   "metadata": {},
   "source": [
    "___\n",
    "## <font color='blue'>Padaria </font>\n",
    "\n",
    "Uma empresa deve decidir onde construir uma padaria: <font color='green'>Bairro A </font> ou <font color='orange'> Bairro B </font>. \n",
    "\n",
    "Como ambos os bairros possuem densidades populacionais próximas, os investidores visam atingir um público alvo de maior renda familiar. \n",
    "Assim, quanto maior o número de famílias com rendas familiares mais altas, maior será a chance do empreendimento ser bem sucedido. \n",
    "\n",
    "Considerando que a decisão final seja baseada em informações sobre a renda familiar dos moradores desses dois bairros, responda:\n",
    "\n",
    "1. Calcule algumas medidas resumo úteis para entender o comportamento dessa variável em ambos os bairros. Analise.\n",
    "\n",
    "2. Construa o histograma dos dados e compare as distribuições de renda familiar (em mil reais) dos dois bairros. Qual é o melhor bairro para construir a padaria? Justifique.\n",
    "\n",
    "3. Construa o QQ-Plot considerando quantil amostral do Bairro A vs quantil amostral do Bairro B. Esse gráfico de quantis amostrais auxilia a responder qual é o melhor bairro para construir a padaria? Justifique claramente.\n",
    "   Dica: veja construção desse gráfico no Magalhães e Lima (7ª edição) - pág. 27 e 29.\n",
    "\n",
    "3. Assuma que $X$: renda familiar de um determinado bairro tenha $\\mu$ estimada pela média amostral ($\\bar{x}$) e tenha $\\sigma^2$ estimada pela variância amostral, ambas de um mesmo bairro em questão. Verifique, visualmente/graficamente, se a distribuição normal é adequada para estimar a renda familiar de cada bairro. Para isso, interprete os seguintes gráficos:\n",
    "      1. Construa o histograma dos dados junto com a fdp da distribuição normal e analise.\n",
    "      \n",
    "      2. Construa o Gráfico de probabilidade considerando o quantil amostral vs o quantil teórico da distribuição normal. Interprete esse gráfico com intuito de avaliar se: A renda de cada bairro é bem modelada por uma distribuição normal?\n",
    "      Dica: veja Exemplo 6.8 do Magalhães e Lima (7ª. edição) de como obter as frequências relativas acumuladas a partir de uma amostra de tamanho n=500 (de cada bairro). Os quantis teóricos da distribuição normal podem ser obtidos pelo comando `stats.norm.ppf(p, loc=mu, scale=sigma)`, sendo `p` a frequencia relativa acumulada  obtida anteriormente.\n",
    "      \n",
    "      4. Construa um gráfico dos valores observados vs frequência relativa acumulada (a partir dos dados) e vs função de distribuição acumulada.\n",
    "   \n",
    "4. Independente da sua resposta do item anterior, assuma que $X$: renda familiar de um determinado bairro segue uma distribuição normal considerando as estimativas amostrais como valores dos parâmetros de cada bairro. Nesse caso, para cada bairro, calcule:\n",
    "      1. probabilidade de uma família possuir renda familiar maior do que 17 mil reais.\n",
    "\n",
    "      2. sabendo que a famíliar tem mais do que 15 mil reais de renda familiar, qual a probabilidade dessa possuir renda inferior a 16 mil reais.\n",
    "      \n",
    "      3. qual a menor renda familiar dos 5% das famílias que mais ganham em cada bairro? \n",
    "\n"
   ]
  },
  {
   "cell_type": "code",
   "execution_count": 2,
   "metadata": {
    "collapsed": false
   },
   "outputs": [
    {
     "name": "stdout",
     "output_type": "stream",
     "text": [
      "Esperamos trabalhar no diretório\n",
      "C:\\Users\\chend\\Documents\\GitHub\\CD1S17\\APS\\APS 5\n"
     ]
    }
   ],
   "source": [
    "%matplotlib inline\n",
    "\n",
    "import os\n",
    "import matplotlib.pyplot as plt\n",
    "import pandas as pd\n",
    "from scipy import stats\n",
    "from numpy import mean, var, arange\n",
    "import numpy as np\n",
    "from matplotlib import pyplot\n",
    "\n",
    "print('Esperamos trabalhar no diretório')\n",
    "print(os.getcwd())"
   ]
  },
  {
   "cell_type": "code",
   "execution_count": 3,
   "metadata": {
    "collapsed": false
   },
   "outputs": [],
   "source": [
    "dados = pd.read_excel('Padaria.xlsx')"
   ]
  },
  {
   "cell_type": "markdown",
   "metadata": {},
   "source": [
    "# 1"
   ]
  },
  {
   "cell_type": "code",
   "execution_count": 4,
   "metadata": {
    "collapsed": false
   },
   "outputs": [],
   "source": [
    "#Definindo o dadosors, novo dataframe ordenado\n",
    "dadosord = pd.DataFrame()\n",
    "dadosord['A'] = sorted(dados.A)\n",
    "dadosord['B'] = sorted(dados.B)"
   ]
  },
  {
   "cell_type": "code",
   "execution_count": 5,
   "metadata": {
    "collapsed": false
   },
   "outputs": [
    {
     "data": {
      "text/plain": [
       "count    500.000000\n",
       "mean      15.321676\n",
       "std        0.592599\n",
       "min       13.450880\n",
       "25%       14.919380\n",
       "50%       15.335840\n",
       "75%       15.702140\n",
       "max       17.151280\n",
       "Name: A, dtype: float64"
      ]
     },
     "execution_count": 5,
     "metadata": {},
     "output_type": "execute_result"
    }
   ],
   "source": [
    "dadosord.A.describe()"
   ]
  },
  {
   "cell_type": "code",
   "execution_count": 6,
   "metadata": {
    "collapsed": false
   },
   "outputs": [
    {
     "data": {
      "text/plain": [
       "count    500.000000\n",
       "mean      14.221997\n",
       "std        1.840182\n",
       "min        9.704160\n",
       "25%       12.843832\n",
       "50%       14.348205\n",
       "75%       15.770295\n",
       "max       18.911520\n",
       "Name: B, dtype: float64"
      ]
     },
     "execution_count": 6,
     "metadata": {},
     "output_type": "execute_result"
    }
   ],
   "source": [
    "dadosord.B.describe()"
   ]
  },
  {
   "cell_type": "markdown",
   "metadata": {},
   "source": [
    "Percebemos pela análise dos dados, que como dito no enunciado foram selecionadas quantidades iguais de famílias pela proximidade na população de famílias. Percebemos também que a renda média das famílias das duas regioes é parecida o desvio padrão da renda das famílias da região A é bem menor do que o desvio padrão da renda das famílias da região B, nos revelando que as famílias da região B possuem uma renda mais proxima da média, já as famílias da região A estão mais distantes, no geral, da média de renda.\n",
    "______________-"
   ]
  },
  {
   "cell_type": "markdown",
   "metadata": {},
   "source": [
    "# 2"
   ]
  },
  {
   "cell_type": "code",
   "execution_count": 7,
   "metadata": {
    "collapsed": false
   },
   "outputs": [],
   "source": [
    "faixarenda = np.arange(9,19,.5)"
   ]
  },
  {
   "cell_type": "code",
   "execution_count": 8,
   "metadata": {
    "collapsed": false
   },
   "outputs": [
    {
     "data": {
      "text/plain": [
       "<matplotlib.axes._subplots.AxesSubplot at 0x24d6d733048>"
      ]
     },
     "execution_count": 8,
     "metadata": {},
     "output_type": "execute_result"
    },
    {
     "data": {
      "image/png": "[encoded data removed]",
      "text/plain": [
       "<matplotlib.figure.Figure at 0x24d6d733400>"
      ]
     },
     "metadata": {},
     "output_type": "display_data"
    }
   ],
   "source": [
    "dadosord.A.hist(bins = faixarenda, color = \"DarkOrchid\", alpha = 0.6, normed = 1)\n",
    "dadosord.B.hist(bins = faixarenda, color = \"SpringGreen\", alpha = 0.6, normed = 1)"
   ]
  },
  {
   "cell_type": "markdown",
   "metadata": {},
   "source": [
    "Pela minha análise, o melhor bairro para se construir a padaria, considerando a região que teria mais dinheiro para gastar na padaria, seria a região A. Como podemos perceber, a região B possui uma maior quantidade de famílias com rendas muito altas, já a região A possui praticamente todas as famílias com rendas em torno de 15 e 16 mil reais. Concluindo, se a padaria quer uma população mais rica, porém em menos quantidade, deverá escolher o bairro B, se ela quer uam maior homogeneidade nos clientes, deverá escolher a região A.\n",
    "_____________"
   ]
  },
  {
   "cell_type": "markdown",
   "metadata": {},
   "source": [
    "# 3"
   ]
  },
  {
   "cell_type": "code",
   "execution_count": 9,
   "metadata": {
    "collapsed": false,
    "scrolled": true
   },
   "outputs": [
    {
     "data": {
      "text/plain": [
       "<matplotlib.legend.Legend at 0x24d6dcbfd30>"
      ]
     },
     "execution_count": 9,
     "metadata": {},
     "output_type": "execute_result"
    },
    {
     "data": {
      "image/png": "[encoded data removed]",
      "text/plain": [
       "<matplotlib.figure.Figure at 0x24d6db81a90>"
      ]
     },
     "metadata": {},
     "output_type": "display_data"
    }
   ],
   "source": [
    "#N = ['b', 'g', 'r', 'y', 'm', 'c']\n",
    "#colors = np.random.rand(N)\n",
    "plt.scatter(dadosord.A, dadosord.B, alpha=0.5, label = 'Pontos das rendas')\n",
    "plt.plot ([9.5, 18], [9.5, 18], label = 'Bissetriz do primeiro quadrante')\n",
    "plt.xlabel('Renda das famílias da região A')\n",
    "plt.ylabel('Renda das famílias da região B')\n",
    "pyplot.legend(loc = 'best')"
   ]
  },
  {
   "cell_type": "markdown",
   "metadata": {},
   "source": [
    "A partir da leitura do gráfico acima, continuo com a opinião de que se a padaria prefere uma maior homogeneidade, fique com a região A, se ele prefere uma população mais rica, fique com a região B, sabendo que os clientes estarão em menor quantidade. Isso se justifica pois podemos perceber que a maioria das famílias na região A possuem uma renda maior do que as famílias da região B. A região B apenas tem renda maior que a região A para rendas altas (aproximadamente maior de 15 mil reais).\n",
    "_____________"
   ]
  },
  {
   "cell_type": "markdown",
   "metadata": {},
   "source": [
    "# 4"
   ]
  },
  {
   "cell_type": "markdown",
   "metadata": {},
   "source": [
    "## 4-A"
   ]
  },
  {
   "cell_type": "code",
   "execution_count": 10,
   "metadata": {
    "collapsed": false
   },
   "outputs": [
    {
     "data": {
      "text/plain": [
       "[<matplotlib.lines.Line2D at 0x24d6dd7d7b8>]"
      ]
     },
     "execution_count": 10,
     "metadata": {},
     "output_type": "execute_result"
    },
    {
     "data": {
      "image/png": "[encoded data removed]",
      "text/plain": [
       "<matplotlib.figure.Figure at 0x24d6dc8cf60>"
      ]
     },
     "metadata": {},
     "output_type": "display_data"
    }
   ],
   "source": [
    "dadosord.A.hist(bins = faixarenda, color = \"DarkOrchid\", alpha = 0.6, normed = 1)\n",
    "x = sorted(stats.norm.rvs(size = 10000, loc = 15.32, scale = 0.59))\n",
    "plt.plot(x, stats.norm.pdf(x, loc = 15.32, scale = 0.59), lw = 3, alpha = 0.6)"
   ]
  },
  {
   "cell_type": "code",
   "execution_count": 11,
   "metadata": {
    "collapsed": false,
    "scrolled": true
   },
   "outputs": [
    {
     "data": {
      "text/plain": [
       "[<matplotlib.lines.Line2D at 0x24d6deade10>]"
      ]
     },
     "execution_count": 11,
     "metadata": {},
     "output_type": "execute_result"
    },
    {
     "data": {
      "image/png": "[encoded data removed]",
      "text/plain": [
       "<matplotlib.figure.Figure at 0x24d6dd7deb8>"
      ]
     },
     "metadata": {},
     "output_type": "display_data"
    }
   ],
   "source": [
    "dadosord.B.hist(bins = faixarenda, color = \"DarkOrchid\", alpha = 0.6, normed = 1)\n",
    "y = sorted(stats.norm.rvs(size = 10000, loc = 14.22, scale = 1.84))\n",
    "plt.plot(y, stats.norm.pdf(y, loc = 14.22, scale = 1.84), lw = 3, alpha = 0.6)\n"
   ]
  },
  {
   "cell_type": "markdown",
   "metadata": {},
   "source": [
    "## 4-B"
   ]
  },
  {
   "cell_type": "code",
   "execution_count": 30,
   "metadata": {
    "collapsed": false
   },
   "outputs": [],
   "source": [
    "freqrelat = []\n",
    "for i in range (1, 501):\n",
    "    freqrelat.append ((i-0.5)/500)"
   ]
  },
  {
   "cell_type": "code",
   "execution_count": 31,
   "metadata": {
    "collapsed": true
   },
   "outputs": [],
   "source": [
    "freqnormalA = []\n",
    "for i in dadosord.A:\n",
    "    freqnormalA.append(stats.norm.cdf (i, loc = 15.32, scale = 0.59))"
   ]
  },
  {
   "cell_type": "code",
   "execution_count": 32,
   "metadata": {
    "collapsed": false
   },
   "outputs": [
    {
     "data": {
      "text/plain": [
       "<matplotlib.text.Text at 0x24d6f542390>"
      ]
     },
     "execution_count": 32,
     "metadata": {},
     "output_type": "execute_result"
    },
    {
     "data": {
      "image/png": "[encoded data removed]",
      "text/plain": [
       "<matplotlib.figure.Figure at 0x24d6d733080>"
      ]
     },
     "metadata": {},
     "output_type": "display_data"
    }
   ],
   "source": [
    "plt.plot (dadosord.A, freqrelat, lw = 1.5, color = 'SpringGreen', alpha = 0.7, label = 'Frequência empírica')\n",
    "plt.plot (dadosord.A, freqnormalA, lw = 1.5, color = 'DarkOrchid', alpha = 0.7, label = 'Frequência na distribuição normal')\n",
    "pyplot.legend (loc = 'best')\n",
    "plt.ylabel ('Frequência relativa (quantil)')\n",
    "plt.xlabel ('Valores das rendas')\n",
    "plt.title ('Região A')"
   ]
  },
  {
   "cell_type": "code",
   "execution_count": 19,
   "metadata": {
    "collapsed": false
   },
   "outputs": [],
   "source": [
    "freqnormalB = []\n",
    "for i in dadosord.B:\n",
    "    freqnormalB.append(stats.norm.cdf (i, loc = 14.22, scale = 1.89))"
   ]
  },
  {
   "cell_type": "code",
   "execution_count": 20,
   "metadata": {
    "collapsed": false
   },
   "outputs": [
    {
     "data": {
      "text/plain": [
       "<matplotlib.text.Text at 0x24d6f40ae48>"
      ]
     },
     "execution_count": 20,
     "metadata": {},
     "output_type": "execute_result"
    },
    {
     "data": {
      "image/png": "[encoded data removed]",
      "text/plain": [
       "<matplotlib.figure.Figure at 0x24d6f3ad0b8>"
      ]
     },
     "metadata": {},
     "output_type": "display_data"
    }
   ],
   "source": [
    "plt.plot (dadosord.B, freqrelat, lw = 1.5, color = 'SpringGreen', alpha = 0.7, label = 'Frequência empírica')\n",
    "plt.plot (dadosord.B, freqnormalB, lw = 1.5, color = 'DarkOrchid', alpha = 0.7, label = 'Frequência na distribuição normal')\n",
    "pyplot.legend (loc = 'best')\n",
    "plt.ylabel ('Frequência relativa (quantil)')\n",
    "plt.xlabel ('Valores das rendas')\n",
    "plt.title ('Região B')"
   ]
  },
  {
   "cell_type": "markdown",
   "metadata": {
    "collapsed": true
   },
   "source": [
    "Pela análise dos gráficos acima, percebemos que as probabilidades relativas das rendas da região A se aproximam bastante com as de uma distribuição normal. Já as da região B se diferenciam um pouco mais. Concluímos que a região A será descrita quase que perfeitamente (claro que dependendo da precisão requerida) em uma distribuição normal e a região B pode ser descrita em uma normal porém com uma margem de erro maior.\n",
    "___________"
   ]
  },
  {
   "cell_type": "markdown",
   "metadata": {
    "collapsed": true
   },
   "source": [
    "# 5"
   ]
  },
  {
   "cell_type": "markdown",
   "metadata": {},
   "source": [
    "## 5-A"
   ]
  },
  {
   "cell_type": "code",
   "execution_count": 21,
   "metadata": {
    "collapsed": false
   },
   "outputs": [
    {
     "name": "stdout",
     "output_type": "stream",
     "text": [
      "Probabilidade de uma família da região A ter uma renda maior que 17 mil reais: 0.00220349802791\n",
      "Probabilidade de uma família da região A ter uma renda maior que 17 mil reais: 0.0654108432105\n"
     ]
    }
   ],
   "source": [
    "print ('Probabilidade de uma família da região A ter uma renda maior que 17 mil reais:', 1- (stats.norm.cdf (17, loc = 15.32, scale = 0.59)))\n",
    "print ('Probabilidade de uma família da região A ter uma renda maior que 17 mil reais:', 1- (stats.norm.cdf (17, loc = 14.22, scale = 1.84)))"
   ]
  },
  {
   "cell_type": "markdown",
   "metadata": {},
   "source": [
    "## 5-B"
   ]
  },
  {
   "cell_type": "code",
   "execution_count": 22,
   "metadata": {
    "collapsed": false
   },
   "outputs": [
    {
     "name": "stdout",
     "output_type": "stream",
     "text": [
      "Probabilidade de uma família da região A ter uma renda maior que 16 mil reais dado que ela possui uma renda > 15 mil reais: 0.823642789111\n",
      "Probabilidade de uma família da região B ter uma renda maior que 16 mil reais dado que ela possui uma renda > 15 mil reais: 0.535519446891\n"
     ]
    }
   ],
   "source": [
    "print ('Probabilidade de uma família da região A ter uma renda maior que 16 mil reais dado que ela possui uma renda > 15 mil reais:', (((stats.norm.cdf (16, loc = 15.32, scale = 0.59) - (stats.norm.cdf (15, loc = 15.32, scale = 0.59)))/((stats.norm.cdf (18, loc = 15.32, scale = 0.59))-(stats.norm.cdf (15, loc = 15.32, scale = 0.59))))))\n",
    "print ('Probabilidade de uma família da região B ter uma renda maior que 16 mil reais dado que ela possui uma renda > 15 mil reais:', (((stats.norm.cdf (16, loc = 14.22, scale = 1.84) - (stats.norm.cdf (15, loc = 14.22, scale = 1.84)))/((stats.norm.cdf (18, loc = 14.22, scale = 1.84))-(stats.norm.cdf (15, loc = 14.22, scale = 1.84))))))"
   ]
  },
  {
   "cell_type": "markdown",
   "metadata": {
    "collapsed": true
   },
   "source": [
    "## 5-C"
   ]
  },
  {
   "cell_type": "code",
   "execution_count": 23,
   "metadata": {
    "collapsed": false
   },
   "outputs": [
    {
     "name": "stdout",
     "output_type": "stream",
     "text": [
      "Renda da família com menor renda dentro dos 5% com maior renda da região A: 16.2904636399\n"
     ]
    }
   ],
   "source": [
    "print ('Renda da família com menor renda dentro dos 5% com maior renda da região A:', stats.norm.ppf (0.95, loc = 15.32, scale = 0.59))"
   ]
  },
  {
   "cell_type": "code",
   "execution_count": 24,
   "metadata": {
    "collapsed": false
   },
   "outputs": [
    {
     "name": "stdout",
     "output_type": "stream",
     "text": [
      "Renda da família com menor renda dentro dos 5% com maior renda da região B: 17.2465306736\n"
     ]
    }
   ],
   "source": [
    "print ('Renda da família com menor renda dentro dos 5% com maior renda da região B:', stats.norm.ppf (0.95, loc = 14.22, scale = 1.84))"
   ]
  },
  {
   "cell_type": "code",
   "execution_count": 25,
   "metadata": {
    "collapsed": false
   },
   "outputs": [
    {
     "name": "stdout",
     "output_type": "stream",
     "text": [
      "Obtidos apenas pelo índex da lista, sem utilizar a normal\n",
      "Renda da família com menor renda dentro dos 5% com maior renda da região A: 16.27744\n",
      "Renda da família com menor renda dentro dos 5% com maior renda da região B: 16.8498\n"
     ]
    }
   ],
   "source": [
    "freqrelat.index(0.949)\n",
    "print ('Obtidos apenas pelo índex da lista, sem utilizar a normal')\n",
    "print ('Renda da família com menor renda dentro dos 5% com maior renda da região A:', dadosord.A[475])\n",
    "print ('Renda da família com menor renda dentro dos 5% com maior renda da região B:', dadosord.B[475])"
   ]
  },
  {
   "cell_type": "markdown",
   "metadata": {
    "collapsed": true
   },
   "source": [
    "____________\n",
    "Podemos perceber que calculando o valor da renda da família com menos renda entre os 5% mais ricos da região A utilizando só o index da lista, nos retorna um valor parecido do valor obtido utilizando a normal, podemos justificar isso pelo gráfico obtido dos quantis anteriormente, a região A se encaixa bem na distribuição normal. Já a região B nos deu 16.8498 contra 17.2465 obtida a partir da distribuição normal, isso se da pois a região B se encaixa na distribuição normal porém com uma precisão menor."
   ]
  },
  {
   "cell_type": "code",
   "execution_count": null,
   "metadata": {
    "collapsed": true
   },
   "outputs": [],
   "source": []
  }
 ],
 "metadata": {
  "anaconda-cloud": {},
  "kernelspec": {
   "display_name": "Python 3",
   "language": "python",
   "name": "python3"
  },
  "language_info": {
   "codemirror_mode": {
    "name": "ipython",
    "version": 3
   },
   "file_extension": ".py",
   "mimetype": "text/x-python",
   "name": "python",
   "nbconvert_exporter": "python",
   "pygments_lexer": "ipython3",
   "version": "3.6.0"
  }
 },
 "nbformat": 4,
 "nbformat_minor": 0
}
